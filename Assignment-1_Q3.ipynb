{
 "cells": [
  {
   "cell_type": "markdown",
   "metadata": {},
   "source": [
    "# Regularization"
   ]
  },
  {
   "cell_type": "raw",
   "metadata": {},
   "source": [
    "The maximum training error was observed for 1st degree polynomial.\n",
    "The minimum training error was observed for 4th degree polynomial."
   ]
  },
  {
   "cell_type": "markdown",
   "metadata": {},
   "source": [
    "## a) Lasso Regression"
   ]
  },
  {
   "cell_type": "code",
   "execution_count": 1,
   "metadata": {
    "collapsed": true
   },
   "outputs": [],
   "source": [
    "import pandas as pd \n",
    "import numpy as np\n",
    "import matplotlib.pyplot as plt\n",
    "import random\n",
    "%matplotlib inline"
   ]
  },
  {
   "cell_type": "code",
   "execution_count": 2,
   "metadata": {
    "collapsed": true
   },
   "outputs": [],
   "source": [
    "train = pd.read_csv('train.csv')\n",
    "test = pd.read_csv('test.csv')"
   ]
  },
  {
   "cell_type": "code",
   "execution_count": 3,
   "metadata": {
    "collapsed": true
   },
   "outputs": [],
   "source": [
    "X_train = train['Feature']\n",
    "y_train = np.array(train[' Label'])\n",
    "X_test = test['Feature']\n",
    "y_test = np.array(test[' Label'])"
   ]
  },
  {
   "cell_type": "code",
   "execution_count": 4,
   "metadata": {
    "collapsed": true
   },
   "outputs": [],
   "source": [
    "def hypothesis_function(x_temp, theta):\n",
    "    h = np.matmul(x_temp, theta)\n",
    "    return h\n",
    "\n",
    "def cost_function(x_train, y_train, theta, k, lambda_):\n",
    "    m = len(y_train)\n",
    "    h = hypothesis_function(x_train, theta)\n",
    "    grad_cost = np.array([np.sum((h - y_train) * x_train[:, i])*(1/m) for i in range(k+1)]) + np.array(np.sum(lambda_ * 1 / (2*m)))\n",
    "    return grad_cost\n",
    "\n",
    "def gradient_descent(x_train, y_train, alpha, N, theta, k, lambda_):\n",
    "    for _ in range(N):\n",
    "        grad_cost = cost_function(x_train, y_train, theta, k, lambda_)\n",
    "        temp = alpha * grad_cost\n",
    "        theta = theta - temp\n",
    "    return theta\n",
    "\n",
    "def predict_train(x_train, y_train, alpha, N, k, lambda_): \n",
    "    theta = np.array([0 for i in range(k+1)])\n",
    "    theta = gradient_descent(x_train, y_train, alpha, N, theta, k, lambda_)\n",
    "    y_train_predicted = hypothesis_function(x_train, theta)\n",
    "    return y_train_predicted\n",
    "\n",
    "def predict_test(X_train, y_train, X_test, alpha, N, k, lambda_):\n",
    "    x_train = np.array([X_train**i for i in range(k+1)]).T\n",
    "    x_test = np.array([X_test**i for i in range(k+1)]).T\n",
    "    theta = np.array([0 for i in range(k+1)])\n",
    "    theta_trained = gradient_descent(x_train, y_train, alpha, N, theta, k, lambda_)\n",
    "    y_test_pred = hypothesis_function(x_test, theta_trained)\n",
    "    return y_test_pred\n",
    "\n",
    "def squared_error(X_train, X_test, y_train, y_test, alpha, N, k, lambda_):\n",
    "    x_train = np.array([X_train**i for i in range(k+1)]).T\n",
    "    x_test = np.array([X_test**i for i in range(k+1)]).T\n",
    "    theta = np.array([0 for i in range(k+1)])\n",
    "    theta = gradient_descent(x_train, y_train, alpha, N, theta, k, lambda_)\n",
    "    h_train = hypothesis_function(x_train, theta)\n",
    "    m_train = len(y_train)\n",
    "    J_train = ((1/(2*m_train)) * ((np.sum((h_train - y_train)**2)) + np.sum(lambda_ * theta)))\n",
    "    h_test = hypothesis_function(x_test, theta)\n",
    "    m_test = len(y_test)\n",
    "    J_test = ((1/(2*m_test)) * ((np.sum((h_test - y_test)**2)) + np.sum(lambda_ * theta)))\n",
    "    return (J_train, J_test)\n",
    "\n",
    "def plot_train(X_train, y_train, alpha, N, k, lambda_):\n",
    "    x_train = np.array([X_train**i for i in range(k+1)]).T\n",
    "    plt.scatter(X_train, y_train)\n",
    "    plt.scatter(X_train, predict_train(x_train, y_train, alpha, N, k, lambda_))\n",
    "    \n",
    "def plot_test(X_train, y_train, X_test, y_test, alpha, N, k, lambda_):    \n",
    "    plt.scatter(X_test, y_test)\n",
    "    y_pred = predict_test(X_train, y_train, X_test, alpha, N, k, lambda_)\n",
    "    plt.scatter(X_test, y_pred)"
   ]
  },
  {
   "cell_type": "code",
   "execution_count": 5,
   "metadata": {},
   "outputs": [
    {
     "data": {
      "text/plain": [
       "<matplotlib.text.Text at 0x1156d8400>"
      ]
     },
     "execution_count": 5,
     "metadata": {},
     "output_type": "execute_result"
    },
    {
     "data": {
      "image/png": "[encoded data removed]",
      "text/plain": [
       "<matplotlib.figure.Figure at 0x115612be0>"
      ]
     },
     "metadata": {},
     "output_type": "display_data"
    }
   ],
   "source": [
    "error_train = []\n",
    "error_test = []\n",
    "for l in [0.25, 0.50, 0.75, 1]:\n",
    "    J = squared_error(X_train, X_test, y_train, y_test, 0.05, 10000, 1, l)\n",
    "    error_train.append(J[0])\n",
    "    error_test.append(J[1])\n",
    "plt.plot(error_train, label = 'Training_error')\n",
    "plt.plot(error_test, label = 'Test_error')\n",
    "plt.xlabel('Lambda')\n",
    "plt.ylabel('Squared error')\n",
    "plt.legend()\n",
    "plt.title('Lasso Regression n = 1')"
   ]
  },
  {
   "cell_type": "code",
   "execution_count": 6,
   "metadata": {},
   "outputs": [
    {
     "data": {
      "text/plain": [
       "0.09938465218537118"
      ]
     },
     "execution_count": 6,
     "metadata": {},
     "output_type": "execute_result"
    }
   ],
   "source": [
    "sum(error_train)/len(error_train)"
   ]
  },
  {
   "cell_type": "code",
   "execution_count": 7,
   "metadata": {},
   "outputs": [
    {
     "data": {
      "text/plain": [
       "0.09409717755234394"
      ]
     },
     "execution_count": 7,
     "metadata": {},
     "output_type": "execute_result"
    }
   ],
   "source": [
    "sum(error_test)/len(error_test)"
   ]
  },
  {
   "cell_type": "code",
   "execution_count": 8,
   "metadata": {},
   "outputs": [
    {
     "data": {
      "text/plain": [
       "<matplotlib.text.Text at 0x115bbb9e8>"
      ]
     },
     "execution_count": 8,
     "metadata": {},
     "output_type": "execute_result"
    },
    {
     "data": {
      "image/png": "[encoded data removed]",
      "text/plain": [
       "<matplotlib.figure.Figure at 0x115ae5908>"
      ]
     },
     "metadata": {},
     "output_type": "display_data"
    }
   ],
   "source": [
    "error_train = []\n",
    "error_test = []\n",
    "for l in [0.25, 0.50, 0.75, 1]:\n",
    "    J = squared_error(X_train, X_test, y_train, y_test, 0.05, 10000, 4, l)\n",
    "    error_train.append(J[0])\n",
    "    error_test.append(J[1])\n",
    "plt.plot(error_train, label = 'Training_error')\n",
    "plt.plot(error_test, label = 'Test_error')\n",
    "plt.xlabel('Lambda')\n",
    "plt.ylabel('Squared error')\n",
    "plt.legend()\n",
    "plt.title('Lasso Regression n = 4')"
   ]
  },
  {
   "cell_type": "code",
   "execution_count": 9,
   "metadata": {},
   "outputs": [
    {
     "data": {
      "text/plain": [
       "0.06254946876428351"
      ]
     },
     "execution_count": 9,
     "metadata": {},
     "output_type": "execute_result"
    }
   ],
   "source": [
    "sum(error_train)/len(error_train)"
   ]
  },
  {
   "cell_type": "code",
   "execution_count": 10,
   "metadata": {},
   "outputs": [
    {
     "data": {
      "text/plain": [
       "0.0632210913690016"
      ]
     },
     "execution_count": 10,
     "metadata": {},
     "output_type": "execute_result"
    }
   ],
   "source": [
    "sum(error_test)/len(error_test)"
   ]
  },
  {
   "cell_type": "markdown",
   "metadata": {},
   "source": [
    "## Ridge Regression "
   ]
  },
  {
   "cell_type": "code",
   "execution_count": 11,
   "metadata": {
    "collapsed": true
   },
   "outputs": [],
   "source": [
    "def hypothesis_function(x_temp, theta):\n",
    "    h = np.matmul(x_temp, theta)\n",
    "    return h\n",
    "\n",
    "def cost_function(x_train, y_train, theta, k, lambda_):\n",
    "    m = len(y_train)\n",
    "    h = hypothesis_function(x_train, theta)\n",
    "    grad_cost = np.array([np.sum((h - y_train) * x_train[:, i])*(1/m) for i in range(k+1)]) + np.array(np.sum(lambda_ * theta / m))\n",
    "    return grad_cost\n",
    "\n",
    "def gradient_descent(x_train, y_train, alpha, N, theta, k, lambda_):\n",
    "    for _ in range(N):\n",
    "        grad_cost = cost_function(x_train, y_train, theta, k, lambda_)\n",
    "        temp = alpha * grad_cost\n",
    "        theta = theta - temp\n",
    "    return theta\n",
    "\n",
    "def predict_train(x_train, y_train, alpha, N, k, lambda_): \n",
    "    theta = np.array([0 for i in range(k+1)])\n",
    "    theta = gradient_descent(x_train, y_train, alpha, N, theta, k, lambda_)\n",
    "    y_train_predicted = hypothesis_function(x_train, theta)\n",
    "    return y_train_predicted\n",
    "\n",
    "def predict_test(X_train, y_train, X_test, alpha, N, k, lambda_):\n",
    "    x_train = np.array([X_train**i for i in range(k+1)]).T\n",
    "    x_test = np.array([X_test**i for i in range(k+1)]).T\n",
    "    theta = np.array([0 for i in range(k+1)])\n",
    "    theta_trained = gradient_descent(x_train, y_train, alpha, N, theta, k, lambda_)\n",
    "    y_test_pred = hypothesis_function(x_test, theta_trained)\n",
    "    return y_test_pred\n",
    "\n",
    "def squared_error(X_train, X_test, y_train, y_test, alpha, N, k, lambda_):\n",
    "    x_train = np.array([X_train**i for i in range(k+1)]).T\n",
    "    x_test = np.array([X_test**i for i in range(k+1)]).T\n",
    "    theta = np.array([0 for i in range(k+1)])\n",
    "    theta = gradient_descent(x_train, y_train, alpha, N, theta, k, lambda_)\n",
    "    h_train = hypothesis_function(x_train, theta)\n",
    "    m_train = len(y_train)\n",
    "    J_train = ((1/(2*m_train)) * ((np.sum((h_train - y_train)**2)) + np.sum(lambda_ * (theta**2))))\n",
    "    h_test = hypothesis_function(x_test, theta)\n",
    "    m_test = len(y_test)\n",
    "    J_test = ((1/(2*m_test)) * ((np.sum((h_test - y_test)**2)) + np.sum(lambda_ * (theta**2))))\n",
    "    return (J_train, J_test)\n",
    "\n",
    "def plot_train(X_train, y_train, alpha, N, k, lambda_):\n",
    "    x_train = np.array([X_train**i for i in range(k+1)]).T\n",
    "    plt.scatter(X_train, y_train)\n",
    "    plt.scatter(X_train, predict_train(x_train, y_train, alpha, N, k, lambda_))\n",
    "    \n",
    "def plot_test(X_train, y_train, X_test, y_test, alpha, N, k, lambda_):    \n",
    "    plt.scatter(X_test, y_test)\n",
    "    y_pred = predict_test(X_train, y_train, X_test, alpha, N, k, lambda_)\n",
    "    plt.scatter(X_test, y_pred)"
   ]
  },
  {
   "cell_type": "code",
   "execution_count": 12,
   "metadata": {},
   "outputs": [
    {
     "data": {
      "text/plain": [
       "<matplotlib.text.Text at 0x115cac278>"
      ]
     },
     "execution_count": 12,
     "metadata": {},
     "output_type": "execute_result"
    },
    {
     "data": {
      "image/png": "[encoded data removed]",
      "text/plain": [
       "<matplotlib.figure.Figure at 0x115c01d30>"
      ]
     },
     "metadata": {},
     "output_type": "display_data"
    }
   ],
   "source": [
    "error_train = []\n",
    "error_test = []\n",
    "for l in [0.25, 0.50, 0.75, 1]:\n",
    "    J = squared_error(X_train, X_test, y_train, y_test, 0.05, 10000, 1, l)\n",
    "    error_train.append(J[0])\n",
    "    error_test.append(J[1])\n",
    "plt.plot(error_train, label = 'Training_error')\n",
    "plt.plot(error_test, label = 'Test_error')\n",
    "plt.xlabel('Lambda')\n",
    "plt.ylabel('Squared error')\n",
    "plt.legend()\n",
    "plt.title('Ridge Regression n = 1')"
   ]
  },
  {
   "cell_type": "code",
   "execution_count": 13,
   "metadata": {},
   "outputs": [
    {
     "data": {
      "text/plain": [
       "0.10102082566168002"
      ]
     },
     "execution_count": 13,
     "metadata": {},
     "output_type": "execute_result"
    }
   ],
   "source": [
    "sum(error_train)/len(error_train)"
   ]
  },
  {
   "cell_type": "code",
   "execution_count": 14,
   "metadata": {},
   "outputs": [
    {
     "data": {
      "text/plain": [
       "0.10225738353566469"
      ]
     },
     "execution_count": 14,
     "metadata": {},
     "output_type": "execute_result"
    }
   ],
   "source": [
    "sum(error_test)/len(error_test)"
   ]
  },
  {
   "cell_type": "code",
   "execution_count": 15,
   "metadata": {},
   "outputs": [
    {
     "data": {
      "text/plain": [
       "<matplotlib.text.Text at 0x115db1da0>"
      ]
     },
     "execution_count": 15,
     "metadata": {},
     "output_type": "execute_result"
    },
    {
     "data": {
      "image/png": "[encoded data removed]",
      "text/plain": [
       "<matplotlib.figure.Figure at 0x115d4d080>"
      ]
     },
     "metadata": {},
     "output_type": "display_data"
    }
   ],
   "source": [
    "error_train = []\n",
    "error_test = []\n",
    "for l in [0.25, 0.50, 0.75, 1]:\n",
    "    J = squared_error(X_train, X_test, y_train, y_test, 0.05, 10000, 4, l)\n",
    "    error_train.append(J[0])\n",
    "    error_test.append(J[1])\n",
    "plt.plot(error_train, label = 'Training_error')\n",
    "plt.plot(error_test, label = 'Test_error')\n",
    "plt.xlabel('Lambda')\n",
    "plt.ylabel('Squared error')\n",
    "plt.legend()\n",
    "plt.title('Ridge Regression n = 4')"
   ]
  },
  {
   "cell_type": "code",
   "execution_count": 16,
   "metadata": {},
   "outputs": [
    {
     "data": {
      "text/plain": [
       "0.06864842822885125"
      ]
     },
     "execution_count": 16,
     "metadata": {},
     "output_type": "execute_result"
    }
   ],
   "source": [
    "sum(error_train)/len(error_train)"
   ]
  },
  {
   "cell_type": "code",
   "execution_count": 17,
   "metadata": {},
   "outputs": [
    {
     "data": {
      "text/plain": [
       "0.0940365446047548"
      ]
     },
     "execution_count": 17,
     "metadata": {},
     "output_type": "execute_result"
    }
   ],
   "source": [
    "sum(error_test)/len(error_test)"
   ]
  },
  {
   "cell_type": "markdown",
   "metadata": {},
   "source": [
    "## Difference between Lasso and Ridge Regression"
   ]
  },
  {
   "cell_type": "markdown",
   "metadata": {},
   "source": [
    "### In Lasso Regression as the value of Lambda increases, both the training and test error decreases, whereas in Ridge Regression, both the training and testing error increases with increase in the value of Lambda."
   ]
  },
  {
   "cell_type": "markdown",
   "metadata": {},
   "source": [
    "## Preference between the two"
   ]
  },
  {
   "cell_type": "markdown",
   "metadata": {},
   "source": [
    "#### Lasso Regression  :         \n",
    "#### n = 1     Training Error :   0.993      Testing Error : 0.941\n",
    "#### Ridge Regression:\n",
    "#### n = 1 Training Error : 0.101  Testing Error : 0.102\n",
    "#### Lasso Regression  :         \n",
    "####                                             n = 4      Training Error : 0.0625 Testing Error: 0.0632\n",
    "#### Ridge Regression:\n",
    "#### n = 4 Training Error : 0.068 Testing Error : 0.090\n"
   ]
  },
  {
   "cell_type": "markdown",
   "metadata": {},
   "source": [
    "### In this problem, I would prefer Lasso Regression as in the Lasso Regression the avg. error in training and testing both are less than those for Ridge Regression for both the values of n."
   ]
  },
  {
   "cell_type": "markdown",
   "metadata": {},
   "source": [
    "#######################################################################################################################"
   ]
  }
 ],
 "metadata": {
  "kernelspec": {
   "display_name": "Python 3",
   "language": "python",
   "name": "python3"
  },
  "language_info": {
   "codemirror_mode": {
    "name": "ipython",
    "version": 3
   },
   "file_extension": ".py",
   "mimetype": "text/x-python",
   "name": "python",
   "nbconvert_exporter": "python",
   "pygments_lexer": "ipython3",
   "version": "3.6.1"
  }
 },
 "nbformat": 4,
 "nbformat_minor": 2
}
